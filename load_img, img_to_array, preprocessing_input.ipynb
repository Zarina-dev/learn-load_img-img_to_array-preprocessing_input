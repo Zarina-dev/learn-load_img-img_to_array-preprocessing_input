{
 "cells": [
  {
   "cell_type": "code",
   "execution_count": 12,
   "id": "dd3c2406",
   "metadata": {},
   "outputs": [],
   "source": [
    "import tensorflow\n",
    "from tensorflow.keras.preprocessing.image import load_img"
   ]
  },
  {
   "cell_type": "markdown",
   "id": "d9a63dc0",
   "metadata": {},
   "source": [
    "##### LOAD IMAGE \n",
    "* loaded image will be in PIL format.      \n",
    "> PIL = Python Imaging Library : library for the Python prog.language --> supports for opening , manipulating and saving many different image file formats"
   ]
  },
  {
   "cell_type": "code",
   "execution_count": 13,
   "id": "248341dc",
   "metadata": {},
   "outputs": [
    {
     "name": "stdout",
     "output_type": "stream",
     "text": [
      "<class 'PIL.JpegImagePlugin.JpegImageFile'>\n",
      "JPEG\n",
      "(707, 943)\n",
      "============ image will be shown ====\n"
     ]
    }
   ],
   "source": [
    "img = load_img('E:\\meWith.jpg',)  # attributes:   color_mode=\"grayscale\", target = (224,225)\n",
    "\n",
    "print(type(img))\n",
    "print(img.format)\n",
    "print(img.size)\n",
    "img.show()\n",
    "print('============ image will be shown ====')"
   ]
  },
  {
   "cell_type": "markdown",
   "id": "a8a2bb12",
   "metadata": {},
   "source": [
    "##### convert PIL format image into NUMPY ARRAY"
   ]
  },
  {
   "cell_type": "code",
   "execution_count": 14,
   "id": "ae85bb24",
   "metadata": {
    "scrolled": true
   },
   "outputs": [
    {
     "name": "stdout",
     "output_type": "stream",
     "text": [
      "[[[207. 213. 211.]\n",
      "  [207. 213. 211.]\n",
      "  [207. 213. 211.]\n",
      "  ...\n",
      "  [190. 200. 199.]\n",
      "  [190. 200. 199.]\n",
      "  [190. 200. 199.]]\n",
      "\n",
      " [[207. 213. 211.]\n",
      "  [207. 213. 211.]\n",
      "  [207. 213. 211.]\n",
      "  ...\n",
      "  [190. 200. 199.]\n",
      "  [190. 200. 199.]\n",
      "  [190. 200. 199.]]\n",
      "\n",
      " [[207. 213. 211.]\n",
      "  [207. 213. 211.]\n",
      "  [207. 213. 211.]\n",
      "  ...\n",
      "  [190. 200. 199.]\n",
      "  [190. 200. 199.]\n",
      "  [190. 200. 199.]]\n",
      "\n",
      " ...\n",
      "\n",
      " [[191. 186. 180.]\n",
      "  [193. 188. 182.]\n",
      "  [194. 189. 183.]\n",
      "  ...\n",
      "  [194. 195. 197.]\n",
      "  [195. 196. 198.]\n",
      "  [195. 196. 198.]]\n",
      "\n",
      " [[191. 186. 180.]\n",
      "  [193. 188. 182.]\n",
      "  [194. 189. 183.]\n",
      "  ...\n",
      "  [197. 198. 200.]\n",
      "  [197. 198. 200.]\n",
      "  [198. 199. 201.]]\n",
      "\n",
      " [[192. 187. 181.]\n",
      "  [193. 188. 182.]\n",
      "  [194. 189. 183.]\n",
      "  ...\n",
      "  [198. 199. 201.]\n",
      "  [198. 199. 201.]\n",
      "  [199. 200. 202.]]]\n"
     ]
    }
   ],
   "source": [
    "from tensorflow.keras.preprocessing.image import img_to_array\n",
    "\n",
    "img_array = img_to_array(img)\n",
    "print(img_array)"
   ]
  },
  {
   "cell_type": "markdown",
   "id": "0dfb06a5",
   "metadata": {},
   "source": [
    "##### convert back:  NUMPY into PIL"
   ]
  },
  {
   "cell_type": "code",
   "execution_count": 15,
   "id": "dc061828",
   "metadata": {},
   "outputs": [
    {
     "name": "stdout",
     "output_type": "stream",
     "text": [
      "<PIL.Image.Image image mode=RGB size=707x943 at 0x266FCF83790>\n"
     ]
    }
   ],
   "source": [
    "from tensorflow.keras.preprocessing.image import array_to_img\n",
    "\n",
    "img_pil = array_to_img(img_array)\n",
    "print(img_pil)"
   ]
  },
  {
   "cell_type": "markdown",
   "id": "c04fc136",
   "metadata": {},
   "source": [
    "##### NORMALIZING IT"
   ]
  },
  {
   "cell_type": "code",
   "execution_count": 16,
   "id": "466809b7",
   "metadata": {
    "scrolled": true
   },
   "outputs": [
    {
     "name": "stdout",
     "output_type": "stream",
     "text": [
      "[[[0.62352943 0.67058825 0.654902  ]\n",
      "  [0.62352943 0.67058825 0.654902  ]\n",
      "  [0.62352943 0.67058825 0.654902  ]\n",
      "  ...\n",
      "  [0.4901961  0.5686275  0.56078434]\n",
      "  [0.4901961  0.5686275  0.56078434]\n",
      "  [0.4901961  0.5686275  0.56078434]]\n",
      "\n",
      " [[0.62352943 0.67058825 0.654902  ]\n",
      "  [0.62352943 0.67058825 0.654902  ]\n",
      "  [0.62352943 0.67058825 0.654902  ]\n",
      "  ...\n",
      "  [0.4901961  0.5686275  0.56078434]\n",
      "  [0.4901961  0.5686275  0.56078434]\n",
      "  [0.4901961  0.5686275  0.56078434]]\n",
      "\n",
      " [[0.62352943 0.67058825 0.654902  ]\n",
      "  [0.62352943 0.67058825 0.654902  ]\n",
      "  [0.62352943 0.67058825 0.654902  ]\n",
      "  ...\n",
      "  [0.4901961  0.5686275  0.56078434]\n",
      "  [0.4901961  0.5686275  0.56078434]\n",
      "  [0.4901961  0.5686275  0.56078434]]\n",
      "\n",
      " ...\n",
      "\n",
      " [[0.49803925 0.45882356 0.41176474]\n",
      "  [0.5137255  0.47450984 0.427451  ]\n",
      "  [0.52156866 0.48235297 0.43529415]\n",
      "  ...\n",
      "  [0.52156866 0.5294118  0.54509807]\n",
      "  [0.5294118  0.5372549  0.5529412 ]\n",
      "  [0.5294118  0.5372549  0.5529412 ]]\n",
      "\n",
      " [[0.49803925 0.45882356 0.41176474]\n",
      "  [0.5137255  0.47450984 0.427451  ]\n",
      "  [0.52156866 0.48235297 0.43529415]\n",
      "  ...\n",
      "  [0.54509807 0.5529412  0.5686275 ]\n",
      "  [0.54509807 0.5529412  0.5686275 ]\n",
      "  [0.5529412  0.56078434 0.5764706 ]]\n",
      "\n",
      " [[0.5058824  0.4666667  0.41960788]\n",
      "  [0.5137255  0.47450984 0.427451  ]\n",
      "  [0.52156866 0.48235297 0.43529415]\n",
      "  ...\n",
      "  [0.5529412  0.56078434 0.5764706 ]\n",
      "  [0.5529412  0.56078434 0.5764706 ]\n",
      "  [0.56078434 0.5686275  0.58431375]]]\n"
     ]
    }
   ],
   "source": [
    "from tensorflow.keras.applications.mobilenet_v2 import preprocess_input\n",
    "\n",
    "normilized_img = preprocess_input(img_array)\n",
    "print(normilized_img)"
   ]
  },
  {
   "cell_type": "code",
   "execution_count": null,
   "id": "bf4b24ad",
   "metadata": {},
   "outputs": [],
   "source": []
  },
  {
   "cell_type": "code",
   "execution_count": null,
   "id": "15a5c558",
   "metadata": {},
   "outputs": [],
   "source": []
  }
 ],
 "metadata": {
  "kernelspec": {
   "display_name": "Python 3",
   "language": "python",
   "name": "python3"
  },
  "language_info": {
   "codemirror_mode": {
    "name": "ipython",
    "version": 3
   },
   "file_extension": ".py",
   "mimetype": "text/x-python",
   "name": "python",
   "nbconvert_exporter": "python",
   "pygments_lexer": "ipython3",
   "version": "3.8.8"
  }
 },
 "nbformat": 4,
 "nbformat_minor": 5
}
